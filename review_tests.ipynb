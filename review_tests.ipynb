{
 "cells": [
  {
   "cell_type": "code",
   "execution_count": 3,
   "metadata": {},
   "outputs": [
    {
     "name": "stdout",
     "output_type": "stream",
     "text": [
      "No errors or warnings found.\n"
     ]
    }
   ],
   "source": [
    "from ratesb_python import check_model\n",
    "result = check_model(\"A->B;k1*A - k2*B\")\n",
    "# result = check_model(\"A+B->C;k_1*A*B-k*C\", \"A->B;k1*A\");\n",
    "print(result)"
   ]
  },
  {
   "cell_type": "code",
   "execution_count": 7,
   "metadata": {},
   "outputs": [
    {
     "name": "stdout",
     "output_type": "stream",
     "text": [
      "No errors or warnings found.\n",
      "No errors or warnings found.\n",
      "[]\n",
      "Num Errors:  0\n",
      "Num Warnings:  0\n"
     ]
    }
   ],
   "source": [
    "from ratesb_python import Analyzer\n",
    "\n",
    "# Assuming `model` is your SBML or Antimony model\n",
    "analyzer = Analyzer(\"repressilator.xml\")\n",
    "# or:\n",
    "# analyzer2 = Analyzer(\"S1->P1; k1 * S1\") # custom classification file is optional\n",
    "\n",
    "# Analyze the model for rate law correctness\n",
    "analyzer.check_all()\n",
    "results = analyzer.results\n",
    "\n",
    "# Display all errors and warnings\n",
    "print(results)\n",
    "\n",
    "# Check selected errors and warnings\n",
    "# analyzer.checks([1, 2, 1001, 1002])\n",
    "\n",
    "# No need to set results = analyzer.results again as results updates automatically\n",
    "print(results)\n",
    "\n",
    "# Display only warnings\n",
    "warnings = results.get_all_warnings()\n",
    "for reaction, messages in warnings.items():\n",
    "    print(reaction, messages)\n",
    "\n",
    "# Retrieve messages for a specific reaction\n",
    "messages = results.get_messages_by_reaction(\"Reaction1\")\n",
    "print(messages)\n",
    "\n",
    "# Remove messages for a specific reaction\n",
    "# results.remove_messages_by_reaction(\"Reaction1\")\n",
    "\n",
    "# Get number of errors and warnings\n",
    "print(\"Num Errors: \", results.count_errors())\n",
    "print(\"Num Warnings: \", results.count_warnings())"
   ]
  },
  {
   "cell_type": "code",
   "execution_count": 31,
   "metadata": {},
   "outputs": [
    {
     "data": {
      "text/plain": [
       "No errors or warnings found."
      ]
     },
     "execution_count": 31,
     "metadata": {},
     "output_type": "execute_result"
    }
   ],
   "source": [
    "results"
   ]
  },
  {
   "cell_type": "markdown",
   "metadata": {},
   "source": [
    "Model creation below"
   ]
  },
  {
   "cell_type": "code",
   "execution_count": 3,
   "metadata": {},
   "outputs": [
    {
     "name": "stdout",
     "output_type": "stream",
     "text": [
      "Collecting biocrnpyler\n",
      "  Downloading BioCRNpyler-1.2.0-py3-none-any.whl.metadata (9.6 kB)\n",
      "Requirement already satisfied: python-libsbml in /usr/local/python/3.12.1/lib/python3.12/site-packages (from biocrnpyler) (5.20.5)\n",
      "Collecting numpy<2.0 (from biocrnpyler)\n",
      "  Downloading numpy-1.26.4-cp312-cp312-manylinux_2_17_x86_64.manylinux2014_x86_64.whl.metadata (61 kB)\n",
      "Requirement already satisfied: matplotlib in /home/codespace/.local/lib/python3.12/site-packages (from biocrnpyler) (3.10.1)\n",
      "Requirement already satisfied: networkx in /home/codespace/.local/lib/python3.12/site-packages (from biocrnpyler) (3.3)\n",
      "Collecting bokeh>=1.4.0 (from biocrnpyler)\n",
      "  Downloading bokeh-3.7.3-py3-none-any.whl.metadata (12 kB)\n",
      "Collecting fa2_modified (from biocrnpyler)\n",
      "  Downloading fa2_modified-0.3.10.tar.gz (474 kB)\n",
      "  Installing build dependencies ... \u001b[?25ldone\n",
      "\u001b[?25h  Getting requirements to build wheel ... \u001b[?25ldone\n",
      "\u001b[?25h  Preparing metadata (pyproject.toml) ... \u001b[?25ldone\n",
      "\u001b[?25hCollecting jupyter (from biocrnpyler)\n",
      "  Downloading jupyter-1.1.1-py2.py3-none-any.whl.metadata (2.0 kB)\n",
      "Collecting pytest (from biocrnpyler)\n",
      "  Downloading pytest-8.3.5-py3-none-any.whl.metadata (7.6 kB)\n",
      "Collecting pytest-cov (from biocrnpyler)\n",
      "  Downloading pytest_cov-6.1.1-py3-none-any.whl.metadata (28 kB)\n",
      "Requirement already satisfied: nbconvert in /home/codespace/.local/lib/python3.12/site-packages (from biocrnpyler) (7.16.6)\n",
      "Requirement already satisfied: Jinja2>=2.9 in /home/codespace/.local/lib/python3.12/site-packages (from bokeh>=1.4.0->biocrnpyler) (3.1.6)\n",
      "Requirement already satisfied: contourpy>=1.2 in /home/codespace/.local/lib/python3.12/site-packages (from bokeh>=1.4.0->biocrnpyler) (1.3.1)\n",
      "Requirement already satisfied: narwhals>=1.13 in /home/codespace/.local/lib/python3.12/site-packages (from bokeh>=1.4.0->biocrnpyler) (1.31.0)\n",
      "Requirement already satisfied: packaging>=16.8 in /home/codespace/.local/lib/python3.12/site-packages (from bokeh>=1.4.0->biocrnpyler) (24.2)\n",
      "Requirement already satisfied: pandas>=1.2 in /home/codespace/.local/lib/python3.12/site-packages (from bokeh>=1.4.0->biocrnpyler) (2.2.3)\n",
      "Requirement already satisfied: pillow>=7.1.0 in /home/codespace/.local/lib/python3.12/site-packages (from bokeh>=1.4.0->biocrnpyler) (11.1.0)\n",
      "Requirement already satisfied: PyYAML>=3.10 in /home/codespace/.local/lib/python3.12/site-packages (from bokeh>=1.4.0->biocrnpyler) (6.0.2)\n",
      "Requirement already satisfied: tornado>=6.2 in /home/codespace/.local/lib/python3.12/site-packages (from bokeh>=1.4.0->biocrnpyler) (6.4.2)\n",
      "Collecting xyzservices>=2021.09.1 (from bokeh>=1.4.0->biocrnpyler)\n",
      "  Downloading xyzservices-2025.4.0-py3-none-any.whl.metadata (4.3 kB)\n",
      "Requirement already satisfied: scipy in /home/codespace/.local/lib/python3.12/site-packages (from fa2_modified->biocrnpyler) (1.15.2)\n",
      "Collecting tqdm (from fa2_modified->biocrnpyler)\n",
      "  Downloading tqdm-4.67.1-py3-none-any.whl.metadata (57 kB)\n",
      "Collecting notebook (from jupyter->biocrnpyler)\n",
      "  Downloading notebook-7.4.2-py3-none-any.whl.metadata (10 kB)\n",
      "Collecting jupyter-console (from jupyter->biocrnpyler)\n",
      "  Downloading jupyter_console-6.6.3-py3-none-any.whl.metadata (5.8 kB)\n",
      "Requirement already satisfied: ipykernel in /home/codespace/.local/lib/python3.12/site-packages (from jupyter->biocrnpyler) (6.29.5)\n",
      "Collecting ipywidgets (from jupyter->biocrnpyler)\n",
      "  Downloading ipywidgets-8.1.7-py3-none-any.whl.metadata (2.4 kB)\n",
      "Requirement already satisfied: jupyterlab in /home/codespace/.local/lib/python3.12/site-packages (from jupyter->biocrnpyler) (4.3.6)\n",
      "Requirement already satisfied: cycler>=0.10 in /home/codespace/.local/lib/python3.12/site-packages (from matplotlib->biocrnpyler) (0.12.1)\n",
      "Requirement already satisfied: fonttools>=4.22.0 in /home/codespace/.local/lib/python3.12/site-packages (from matplotlib->biocrnpyler) (4.56.0)\n",
      "Requirement already satisfied: kiwisolver>=1.3.1 in /home/codespace/.local/lib/python3.12/site-packages (from matplotlib->biocrnpyler) (1.4.8)\n",
      "Requirement already satisfied: pyparsing>=2.3.1 in /home/codespace/.local/lib/python3.12/site-packages (from matplotlib->biocrnpyler) (3.2.1)\n",
      "Requirement already satisfied: python-dateutil>=2.7 in /home/codespace/.local/lib/python3.12/site-packages (from matplotlib->biocrnpyler) (2.9.0.post0)\n",
      "Requirement already satisfied: beautifulsoup4 in /home/codespace/.local/lib/python3.12/site-packages (from nbconvert->biocrnpyler) (4.13.3)\n",
      "Requirement already satisfied: bleach!=5.0.0 in /home/codespace/.local/lib/python3.12/site-packages (from bleach[css]!=5.0.0->nbconvert->biocrnpyler) (6.2.0)\n",
      "Requirement already satisfied: defusedxml in /home/codespace/.local/lib/python3.12/site-packages (from nbconvert->biocrnpyler) (0.7.1)\n",
      "Requirement already satisfied: jupyter-core>=4.7 in /home/codespace/.local/lib/python3.12/site-packages (from nbconvert->biocrnpyler) (5.7.2)\n",
      "Requirement already satisfied: jupyterlab-pygments in /home/codespace/.local/lib/python3.12/site-packages (from nbconvert->biocrnpyler) (0.3.0)\n",
      "Requirement already satisfied: markupsafe>=2.0 in /home/codespace/.local/lib/python3.12/site-packages (from nbconvert->biocrnpyler) (3.0.2)\n",
      "Requirement already satisfied: mistune<4,>=2.0.3 in /home/codespace/.local/lib/python3.12/site-packages (from nbconvert->biocrnpyler) (3.1.2)\n",
      "Requirement already satisfied: nbclient>=0.5.0 in /home/codespace/.local/lib/python3.12/site-packages (from nbconvert->biocrnpyler) (0.10.2)\n",
      "Requirement already satisfied: nbformat>=5.7 in /home/codespace/.local/lib/python3.12/site-packages (from nbconvert->biocrnpyler) (5.10.4)\n",
      "Requirement already satisfied: pandocfilters>=1.4.1 in /home/codespace/.local/lib/python3.12/site-packages (from nbconvert->biocrnpyler) (1.5.1)\n",
      "Requirement already satisfied: pygments>=2.4.1 in /home/codespace/.local/lib/python3.12/site-packages (from nbconvert->biocrnpyler) (2.19.1)\n",
      "Requirement already satisfied: traitlets>=5.1 in /home/codespace/.local/lib/python3.12/site-packages (from nbconvert->biocrnpyler) (5.14.3)\n",
      "Collecting iniconfig (from pytest->biocrnpyler)\n",
      "  Downloading iniconfig-2.1.0-py3-none-any.whl.metadata (2.7 kB)\n",
      "Collecting pluggy<2,>=1.5 (from pytest->biocrnpyler)\n",
      "  Downloading pluggy-1.5.0-py3-none-any.whl.metadata (4.8 kB)\n",
      "Requirement already satisfied: coverage>=7.5 in /usr/local/python/3.12.1/lib/python3.12/site-packages (from coverage[toml]>=7.5->pytest-cov->biocrnpyler) (7.8.0)\n",
      "Requirement already satisfied: webencodings in /home/codespace/.local/lib/python3.12/site-packages (from bleach!=5.0.0->bleach[css]!=5.0.0->nbconvert->biocrnpyler) (0.5.1)\n",
      "Requirement already satisfied: tinycss2<1.5,>=1.1.0 in /home/codespace/.local/lib/python3.12/site-packages (from bleach[css]!=5.0.0->nbconvert->biocrnpyler) (1.4.0)\n",
      "Requirement already satisfied: platformdirs>=2.5 in /home/codespace/.local/lib/python3.12/site-packages (from jupyter-core>=4.7->nbconvert->biocrnpyler) (4.3.6)\n",
      "Requirement already satisfied: jupyter-client>=6.1.12 in /home/codespace/.local/lib/python3.12/site-packages (from nbclient>=0.5.0->nbconvert->biocrnpyler) (8.6.3)\n",
      "Requirement already satisfied: fastjsonschema>=2.15 in /home/codespace/.local/lib/python3.12/site-packages (from nbformat>=5.7->nbconvert->biocrnpyler) (2.21.1)\n",
      "Requirement already satisfied: jsonschema>=2.6 in /home/codespace/.local/lib/python3.12/site-packages (from nbformat>=5.7->nbconvert->biocrnpyler) (4.23.0)\n",
      "Requirement already satisfied: pytz>=2020.1 in /home/codespace/.local/lib/python3.12/site-packages (from pandas>=1.2->bokeh>=1.4.0->biocrnpyler) (2025.1)\n",
      "Requirement already satisfied: tzdata>=2022.7 in /home/codespace/.local/lib/python3.12/site-packages (from pandas>=1.2->bokeh>=1.4.0->biocrnpyler) (2025.1)\n",
      "Requirement already satisfied: six>=1.5 in /home/codespace/.local/lib/python3.12/site-packages (from python-dateutil>=2.7->matplotlib->biocrnpyler) (1.17.0)\n",
      "Requirement already satisfied: soupsieve>1.2 in /home/codespace/.local/lib/python3.12/site-packages (from beautifulsoup4->nbconvert->biocrnpyler) (2.6)\n",
      "Requirement already satisfied: typing-extensions>=4.0.0 in /home/codespace/.local/lib/python3.12/site-packages (from beautifulsoup4->nbconvert->biocrnpyler) (4.12.2)\n",
      "Requirement already satisfied: comm>=0.1.1 in /home/codespace/.local/lib/python3.12/site-packages (from ipykernel->jupyter->biocrnpyler) (0.2.2)\n",
      "Requirement already satisfied: debugpy>=1.6.5 in /home/codespace/.local/lib/python3.12/site-packages (from ipykernel->jupyter->biocrnpyler) (1.8.13)\n",
      "Requirement already satisfied: ipython>=7.23.1 in /home/codespace/.local/lib/python3.12/site-packages (from ipykernel->jupyter->biocrnpyler) (9.0.2)\n",
      "Requirement already satisfied: matplotlib-inline>=0.1 in /home/codespace/.local/lib/python3.12/site-packages (from ipykernel->jupyter->biocrnpyler) (0.1.7)\n",
      "Requirement already satisfied: nest-asyncio in /home/codespace/.local/lib/python3.12/site-packages (from ipykernel->jupyter->biocrnpyler) (1.6.0)\n",
      "Requirement already satisfied: psutil in /home/codespace/.local/lib/python3.12/site-packages (from ipykernel->jupyter->biocrnpyler) (7.0.0)\n",
      "Requirement already satisfied: pyzmq>=24 in /home/codespace/.local/lib/python3.12/site-packages (from ipykernel->jupyter->biocrnpyler) (26.3.0)\n",
      "Collecting widgetsnbextension~=4.0.14 (from ipywidgets->jupyter->biocrnpyler)\n",
      "  Downloading widgetsnbextension-4.0.14-py3-none-any.whl.metadata (1.6 kB)\n",
      "Collecting jupyterlab_widgets~=3.0.15 (from ipywidgets->jupyter->biocrnpyler)\n",
      "  Downloading jupyterlab_widgets-3.0.15-py3-none-any.whl.metadata (20 kB)\n",
      "Requirement already satisfied: prompt-toolkit>=3.0.30 in /home/codespace/.local/lib/python3.12/site-packages (from jupyter-console->jupyter->biocrnpyler) (3.0.50)\n",
      "Requirement already satisfied: async-lru>=1.0.0 in /home/codespace/.local/lib/python3.12/site-packages (from jupyterlab->jupyter->biocrnpyler) (2.0.5)\n",
      "Requirement already satisfied: httpx>=0.25.0 in /home/codespace/.local/lib/python3.12/site-packages (from jupyterlab->jupyter->biocrnpyler) (0.28.1)\n",
      "Requirement already satisfied: jupyter-lsp>=2.0.0 in /home/codespace/.local/lib/python3.12/site-packages (from jupyterlab->jupyter->biocrnpyler) (2.2.5)\n",
      "Requirement already satisfied: jupyter-server<3,>=2.4.0 in /home/codespace/.local/lib/python3.12/site-packages (from jupyterlab->jupyter->biocrnpyler) (2.15.0)\n",
      "Requirement already satisfied: jupyterlab-server<3,>=2.27.1 in /home/codespace/.local/lib/python3.12/site-packages (from jupyterlab->jupyter->biocrnpyler) (2.27.3)\n",
      "Requirement already satisfied: notebook-shim>=0.2 in /home/codespace/.local/lib/python3.12/site-packages (from jupyterlab->jupyter->biocrnpyler) (0.2.4)\n",
      "Requirement already satisfied: setuptools>=40.8.0 in /home/codespace/.local/lib/python3.12/site-packages (from jupyterlab->jupyter->biocrnpyler) (76.0.0)\n",
      "Collecting jupyterlab (from jupyter->biocrnpyler)\n",
      "  Downloading jupyterlab-4.4.2-py3-none-any.whl.metadata (16 kB)\n",
      "Requirement already satisfied: anyio in /home/codespace/.local/lib/python3.12/site-packages (from httpx>=0.25.0->jupyterlab->jupyter->biocrnpyler) (4.9.0)\n",
      "Requirement already satisfied: certifi in /home/codespace/.local/lib/python3.12/site-packages (from httpx>=0.25.0->jupyterlab->jupyter->biocrnpyler) (2025.1.31)\n",
      "Requirement already satisfied: httpcore==1.* in /home/codespace/.local/lib/python3.12/site-packages (from httpx>=0.25.0->jupyterlab->jupyter->biocrnpyler) (1.0.7)\n",
      "Requirement already satisfied: idna in /home/codespace/.local/lib/python3.12/site-packages (from httpx>=0.25.0->jupyterlab->jupyter->biocrnpyler) (3.10)\n",
      "Requirement already satisfied: h11<0.15,>=0.13 in /home/codespace/.local/lib/python3.12/site-packages (from httpcore==1.*->httpx>=0.25.0->jupyterlab->jupyter->biocrnpyler) (0.14.0)\n",
      "Requirement already satisfied: decorator in /home/codespace/.local/lib/python3.12/site-packages (from ipython>=7.23.1->ipykernel->jupyter->biocrnpyler) (5.2.1)\n",
      "Requirement already satisfied: ipython-pygments-lexers in /home/codespace/.local/lib/python3.12/site-packages (from ipython>=7.23.1->ipykernel->jupyter->biocrnpyler) (1.1.1)\n",
      "Requirement already satisfied: jedi>=0.16 in /home/codespace/.local/lib/python3.12/site-packages (from ipython>=7.23.1->ipykernel->jupyter->biocrnpyler) (0.19.2)\n",
      "Requirement already satisfied: pexpect>4.3 in /home/codespace/.local/lib/python3.12/site-packages (from ipython>=7.23.1->ipykernel->jupyter->biocrnpyler) (4.9.0)\n",
      "Requirement already satisfied: stack_data in /home/codespace/.local/lib/python3.12/site-packages (from ipython>=7.23.1->ipykernel->jupyter->biocrnpyler) (0.6.3)\n",
      "Requirement already satisfied: attrs>=22.2.0 in /home/codespace/.local/lib/python3.12/site-packages (from jsonschema>=2.6->nbformat>=5.7->nbconvert->biocrnpyler) (25.3.0)\n",
      "Requirement already satisfied: jsonschema-specifications>=2023.03.6 in /home/codespace/.local/lib/python3.12/site-packages (from jsonschema>=2.6->nbformat>=5.7->nbconvert->biocrnpyler) (2024.10.1)\n",
      "Requirement already satisfied: referencing>=0.28.4 in /home/codespace/.local/lib/python3.12/site-packages (from jsonschema>=2.6->nbformat>=5.7->nbconvert->biocrnpyler) (0.36.2)\n",
      "Requirement already satisfied: rpds-py>=0.7.1 in /home/codespace/.local/lib/python3.12/site-packages (from jsonschema>=2.6->nbformat>=5.7->nbconvert->biocrnpyler) (0.23.1)\n",
      "Requirement already satisfied: argon2-cffi>=21.1 in /home/codespace/.local/lib/python3.12/site-packages (from jupyter-server<3,>=2.4.0->jupyterlab->jupyter->biocrnpyler) (23.1.0)\n",
      "Requirement already satisfied: jupyter-events>=0.11.0 in /home/codespace/.local/lib/python3.12/site-packages (from jupyter-server<3,>=2.4.0->jupyterlab->jupyter->biocrnpyler) (0.12.0)\n",
      "Requirement already satisfied: jupyter-server-terminals>=0.4.4 in /home/codespace/.local/lib/python3.12/site-packages (from jupyter-server<3,>=2.4.0->jupyterlab->jupyter->biocrnpyler) (0.5.3)\n",
      "Requirement already satisfied: overrides>=5.0 in /home/codespace/.local/lib/python3.12/site-packages (from jupyter-server<3,>=2.4.0->jupyterlab->jupyter->biocrnpyler) (7.7.0)\n",
      "Requirement already satisfied: prometheus-client>=0.9 in /home/codespace/.local/lib/python3.12/site-packages (from jupyter-server<3,>=2.4.0->jupyterlab->jupyter->biocrnpyler) (0.21.1)\n",
      "Requirement already satisfied: send2trash>=1.8.2 in /home/codespace/.local/lib/python3.12/site-packages (from jupyter-server<3,>=2.4.0->jupyterlab->jupyter->biocrnpyler) (1.8.3)\n",
      "Requirement already satisfied: terminado>=0.8.3 in /home/codespace/.local/lib/python3.12/site-packages (from jupyter-server<3,>=2.4.0->jupyterlab->jupyter->biocrnpyler) (0.18.1)\n",
      "Requirement already satisfied: websocket-client>=1.7 in /home/codespace/.local/lib/python3.12/site-packages (from jupyter-server<3,>=2.4.0->jupyterlab->jupyter->biocrnpyler) (1.8.0)\n",
      "Requirement already satisfied: babel>=2.10 in /home/codespace/.local/lib/python3.12/site-packages (from jupyterlab-server<3,>=2.27.1->jupyterlab->jupyter->biocrnpyler) (2.17.0)\n",
      "Requirement already satisfied: json5>=0.9.0 in /home/codespace/.local/lib/python3.12/site-packages (from jupyterlab-server<3,>=2.27.1->jupyterlab->jupyter->biocrnpyler) (0.10.0)\n",
      "Requirement already satisfied: requests>=2.31 in /home/codespace/.local/lib/python3.12/site-packages (from jupyterlab-server<3,>=2.27.1->jupyterlab->jupyter->biocrnpyler) (2.32.3)\n",
      "Requirement already satisfied: wcwidth in /home/codespace/.local/lib/python3.12/site-packages (from prompt-toolkit>=3.0.30->jupyter-console->jupyter->biocrnpyler) (0.2.13)\n",
      "Requirement already satisfied: sniffio>=1.1 in /home/codespace/.local/lib/python3.12/site-packages (from anyio->httpx>=0.25.0->jupyterlab->jupyter->biocrnpyler) (1.3.1)\n",
      "Requirement already satisfied: argon2-cffi-bindings in /home/codespace/.local/lib/python3.12/site-packages (from argon2-cffi>=21.1->jupyter-server<3,>=2.4.0->jupyterlab->jupyter->biocrnpyler) (21.2.0)\n",
      "Requirement already satisfied: parso<0.9.0,>=0.8.4 in /home/codespace/.local/lib/python3.12/site-packages (from jedi>=0.16->ipython>=7.23.1->ipykernel->jupyter->biocrnpyler) (0.8.4)\n",
      "Requirement already satisfied: python-json-logger>=2.0.4 in /home/codespace/.local/lib/python3.12/site-packages (from jupyter-events>=0.11.0->jupyter-server<3,>=2.4.0->jupyterlab->jupyter->biocrnpyler) (3.3.0)\n",
      "Requirement already satisfied: rfc3339-validator in /home/codespace/.local/lib/python3.12/site-packages (from jupyter-events>=0.11.0->jupyter-server<3,>=2.4.0->jupyterlab->jupyter->biocrnpyler) (0.1.4)\n",
      "Requirement already satisfied: rfc3986-validator>=0.1.1 in /home/codespace/.local/lib/python3.12/site-packages (from jupyter-events>=0.11.0->jupyter-server<3,>=2.4.0->jupyterlab->jupyter->biocrnpyler) (0.1.1)\n",
      "Requirement already satisfied: ptyprocess>=0.5 in /home/codespace/.local/lib/python3.12/site-packages (from pexpect>4.3->ipython>=7.23.1->ipykernel->jupyter->biocrnpyler) (0.7.0)\n",
      "Requirement already satisfied: charset-normalizer<4,>=2 in /home/codespace/.local/lib/python3.12/site-packages (from requests>=2.31->jupyterlab-server<3,>=2.27.1->jupyterlab->jupyter->biocrnpyler) (3.4.1)\n",
      "Requirement already satisfied: urllib3<3,>=1.21.1 in /home/codespace/.local/lib/python3.12/site-packages (from requests>=2.31->jupyterlab-server<3,>=2.27.1->jupyterlab->jupyter->biocrnpyler) (2.3.0)\n",
      "Requirement already satisfied: executing>=1.2.0 in /home/codespace/.local/lib/python3.12/site-packages (from stack_data->ipython>=7.23.1->ipykernel->jupyter->biocrnpyler) (2.2.0)\n",
      "Requirement already satisfied: asttokens>=2.1.0 in /home/codespace/.local/lib/python3.12/site-packages (from stack_data->ipython>=7.23.1->ipykernel->jupyter->biocrnpyler) (3.0.0)\n",
      "Requirement already satisfied: pure-eval in /home/codespace/.local/lib/python3.12/site-packages (from stack_data->ipython>=7.23.1->ipykernel->jupyter->biocrnpyler) (0.2.3)\n",
      "Requirement already satisfied: fqdn in /home/codespace/.local/lib/python3.12/site-packages (from jsonschema[format-nongpl]>=4.18.0->jupyter-events>=0.11.0->jupyter-server<3,>=2.4.0->jupyterlab->jupyter->biocrnpyler) (1.5.1)\n",
      "Requirement already satisfied: isoduration in /home/codespace/.local/lib/python3.12/site-packages (from jsonschema[format-nongpl]>=4.18.0->jupyter-events>=0.11.0->jupyter-server<3,>=2.4.0->jupyterlab->jupyter->biocrnpyler) (20.11.0)\n",
      "Requirement already satisfied: jsonpointer>1.13 in /home/codespace/.local/lib/python3.12/site-packages (from jsonschema[format-nongpl]>=4.18.0->jupyter-events>=0.11.0->jupyter-server<3,>=2.4.0->jupyterlab->jupyter->biocrnpyler) (3.0.0)\n",
      "Requirement already satisfied: uri-template in /home/codespace/.local/lib/python3.12/site-packages (from jsonschema[format-nongpl]>=4.18.0->jupyter-events>=0.11.0->jupyter-server<3,>=2.4.0->jupyterlab->jupyter->biocrnpyler) (1.3.0)\n",
      "Requirement already satisfied: webcolors>=24.6.0 in /home/codespace/.local/lib/python3.12/site-packages (from jsonschema[format-nongpl]>=4.18.0->jupyter-events>=0.11.0->jupyter-server<3,>=2.4.0->jupyterlab->jupyter->biocrnpyler) (24.11.1)\n",
      "Requirement already satisfied: cffi>=1.0.1 in /home/codespace/.local/lib/python3.12/site-packages (from argon2-cffi-bindings->argon2-cffi>=21.1->jupyter-server<3,>=2.4.0->jupyterlab->jupyter->biocrnpyler) (1.17.1)\n",
      "Requirement already satisfied: pycparser in /home/codespace/.local/lib/python3.12/site-packages (from cffi>=1.0.1->argon2-cffi-bindings->argon2-cffi>=21.1->jupyter-server<3,>=2.4.0->jupyterlab->jupyter->biocrnpyler) (2.22)\n",
      "Requirement already satisfied: arrow>=0.15.0 in /home/codespace/.local/lib/python3.12/site-packages (from isoduration->jsonschema[format-nongpl]>=4.18.0->jupyter-events>=0.11.0->jupyter-server<3,>=2.4.0->jupyterlab->jupyter->biocrnpyler) (1.3.0)\n",
      "Requirement already satisfied: types-python-dateutil>=2.8.10 in /home/codespace/.local/lib/python3.12/site-packages (from arrow>=0.15.0->isoduration->jsonschema[format-nongpl]>=4.18.0->jupyter-events>=0.11.0->jupyter-server<3,>=2.4.0->jupyterlab->jupyter->biocrnpyler) (2.9.0.20241206)\n",
      "Downloading BioCRNpyler-1.2.0-py3-none-any.whl (147 kB)\n",
      "Downloading bokeh-3.7.3-py3-none-any.whl (7.0 MB)\n",
      "\u001b[2K   \u001b[90m━━━━━━━━━━━━━━━━━━━━━━━━━━━━━━━━━━━━━━━━\u001b[0m \u001b[32m7.0/7.0 MB\u001b[0m \u001b[31m48.9 MB/s\u001b[0m eta \u001b[36m0:00:00\u001b[0m\n",
      "\u001b[?25hDownloading numpy-1.26.4-cp312-cp312-manylinux_2_17_x86_64.manylinux2014_x86_64.whl (18.0 MB)\n",
      "\u001b[2K   \u001b[90m━━━━━━━━━━━━━━━━━━━━━━━━━━━━━━━━━━━━━━━━\u001b[0m \u001b[32m18.0/18.0 MB\u001b[0m \u001b[31m58.1 MB/s\u001b[0m eta \u001b[36m0:00:00\u001b[0m:00:01\u001b[0m\n",
      "\u001b[?25hDownloading jupyter-1.1.1-py2.py3-none-any.whl (2.7 kB)\n",
      "Downloading pytest-8.3.5-py3-none-any.whl (343 kB)\n",
      "Downloading pytest_cov-6.1.1-py3-none-any.whl (23 kB)\n",
      "Downloading pluggy-1.5.0-py3-none-any.whl (20 kB)\n",
      "Downloading xyzservices-2025.4.0-py3-none-any.whl (90 kB)\n",
      "Downloading iniconfig-2.1.0-py3-none-any.whl (6.0 kB)\n",
      "Downloading ipywidgets-8.1.7-py3-none-any.whl (139 kB)\n",
      "Downloading jupyter_console-6.6.3-py3-none-any.whl (24 kB)\n",
      "Downloading notebook-7.4.2-py3-none-any.whl (14.3 MB)\n",
      "\u001b[2K   \u001b[90m━━━━━━━━━━━━━━━━━━━━━━━━━━━━━━━━━━━━━━━━\u001b[0m \u001b[32m14.3/14.3 MB\u001b[0m \u001b[31m57.7 MB/s\u001b[0m eta \u001b[36m0:00:00\u001b[0m:00:01\u001b[0m\n",
      "\u001b[?25hDownloading jupyterlab-4.4.2-py3-none-any.whl (12.3 MB)\n",
      "\u001b[2K   \u001b[90m━━━━━━━━━━━━━━━━━━━━━━━━━━━━━━━━━━━━━━━━\u001b[0m \u001b[32m12.3/12.3 MB\u001b[0m \u001b[31m55.5 MB/s\u001b[0m eta \u001b[36m0:00:00\u001b[0m:00:01\u001b[0m\n",
      "\u001b[?25hDownloading tqdm-4.67.1-py3-none-any.whl (78 kB)\n",
      "Downloading jupyterlab_widgets-3.0.15-py3-none-any.whl (216 kB)\n",
      "Downloading widgetsnbextension-4.0.14-py3-none-any.whl (2.2 MB)\n",
      "\u001b[2K   \u001b[90m━━━━━━━━━━━━━━━━━━━━━━━━━━━━━━━━━━━━━━━━\u001b[0m \u001b[32m2.2/2.2 MB\u001b[0m \u001b[31m50.3 MB/s\u001b[0m eta \u001b[36m0:00:00\u001b[0m\n",
      "\u001b[?25hBuilding wheels for collected packages: fa2_modified\n",
      "  Building wheel for fa2_modified (pyproject.toml) ... \u001b[?25ldone\n",
      "\u001b[?25h  Created wheel for fa2_modified: filename=fa2_modified-0.3.10-cp312-cp312-linux_x86_64.whl size=517104 sha256=9560ca107d0c0e5f379103997d9ca76f5071f6f0b3e12202b60af58126a57395\n",
      "  Stored in directory: /home/codespace/.cache/pip/wheels/e7/b5/c2/e87afecc23dc78723045cde9a733677ee2b3c1374a7ed3a5e8\n",
      "Successfully built fa2_modified\n",
      "Installing collected packages: xyzservices, widgetsnbextension, tqdm, pluggy, numpy, jupyterlab_widgets, iniconfig, pytest, pytest-cov, ipywidgets, fa2_modified, bokeh, jupyter-console, jupyterlab, notebook, jupyter, biocrnpyler\n",
      "  Attempting uninstall: numpy\n",
      "    Found existing installation: numpy 2.2.4\n",
      "    Uninstalling numpy-2.2.4:\n",
      "      Successfully uninstalled numpy-2.2.4\n",
      "  Attempting uninstall: jupyterlab\n",
      "    Found existing installation: jupyterlab 4.3.6\n",
      "    Uninstalling jupyterlab-4.3.6:\n",
      "      Successfully uninstalled jupyterlab-4.3.6\n",
      "Successfully installed biocrnpyler-1.2.0 bokeh-3.7.3 fa2_modified-0.3.10 iniconfig-2.1.0 ipywidgets-8.1.7 jupyter-1.1.1 jupyter-console-6.6.3 jupyterlab-4.4.2 jupyterlab_widgets-3.0.15 notebook-7.4.2 numpy-1.26.4 pluggy-1.5.0 pytest-8.3.5 pytest-cov-6.1.1 tqdm-4.67.1 widgetsnbextension-4.0.14 xyzservices-2025.4.0\n",
      "\n",
      "\u001b[1m[\u001b[0m\u001b[34;49mnotice\u001b[0m\u001b[1;39;49m]\u001b[0m\u001b[39;49m A new release of pip is available: \u001b[0m\u001b[31;49m25.0.1\u001b[0m\u001b[39;49m -> \u001b[0m\u001b[32;49m25.1.1\u001b[0m\n",
      "\u001b[1m[\u001b[0m\u001b[34;49mnotice\u001b[0m\u001b[1;39;49m]\u001b[0m\u001b[39;49m To update, run: \u001b[0m\u001b[32;49mpython3 -m pip install --upgrade pip\u001b[0m\n"
     ]
    }
   ],
   "source": [
    "!pip install biocrnpyler"
   ]
  },
  {
   "cell_type": "code",
   "execution_count": 6,
   "metadata": {},
   "outputs": [
    {
     "data": {
      "text/plain": [
       "True"
      ]
     },
     "execution_count": 6,
     "metadata": {},
     "output_type": "execute_result"
    }
   ],
   "source": [
    "from biocrnpyler import ChemicalReactionNetwork, Species, Reaction\n",
    "from biocrnpyler.propensities import HillNegative\n",
    "# Create a model of a repressilator with three species repressing each other\n",
    "A = Species(\"A\")\n",
    "B = Species(\"B\")\n",
    "C = Species(\"C\")\n",
    "# Create degradation reactions for all three species\n",
    "d_A = Reaction.from_massaction([A], [], k_forward = 1)\n",
    "d_B = Reaction.from_massaction([B], [], k_forward = 1)\n",
    "d_C = Reaction.from_massaction([C], [], k_forward = 1)\n",
    "degradation = [d_A, d_B, d_C]\n",
    "prop_C = HillNegative(K = 1, k = 1, s1 = C, n = 2)\n",
    "prop_B = HillNegative(K = 1, k = 1, s1 = B, n = 2)\n",
    "prop_A = HillNegative(K = 1, k = 1, s1 = A, n = 2)\n",
    "r_A = Reaction([], [A], propensity_type = prop_C)\n",
    "r_B = Reaction([], [B], propensity_type = prop_A)\n",
    "r_C = Reaction([], [C], propensity_type = prop_B)\n",
    "production = [r_A, r_B, r_C]\n",
    "# Create CRN\n",
    "crn = ChemicalReactionNetwork(species = [A, B, C], reactions = production)\n",
    "# Save to SBML\n",
    "crn.write_sbml_file(\"test_model.xml\")\n"
   ]
  },
  {
   "cell_type": "markdown",
   "metadata": {},
   "source": [
    "Testing custom json"
   ]
  },
  {
   "cell_type": "code",
   "execution_count": 15,
   "metadata": {},
   "outputs": [
    {
     "name": "stdout",
     "output_type": "stream",
     "text": [
      "Some items in your JSON file were invalid and have been removed.\n",
      "Details:\n",
      "Rate law HillNegative has an invalid expression.\n",
      "r0:\n",
      "  Warning 1002: Unrecognized rate law from the standard list and the custom list.\n",
      "r1:\n",
      "  Warning 1002: Unrecognized rate law from the standard list and the custom list.\n",
      "r2:\n",
      "  Warning 1002: Unrecognized rate law from the standard list and the custom list.\n",
      "\n"
     ]
    }
   ],
   "source": [
    "from ratesb_python import Analyzer\n",
    "analyzer = Analyzer(\"test_model.xml\", \"custom_laws.json\")\n",
    "analyzer.check_all()\n",
    "results = analyzer.results\n",
    "\n",
    "# Display all errors and warnings\n",
    "print(results)"
   ]
  }
 ],
 "metadata": {
  "kernelspec": {
   "display_name": "Python 3",
   "language": "python",
   "name": "python3"
  },
  "language_info": {
   "codemirror_mode": {
    "name": "ipython",
    "version": 3
   },
   "file_extension": ".py",
   "mimetype": "text/x-python",
   "name": "python",
   "nbconvert_exporter": "python",
   "pygments_lexer": "ipython3",
   "version": "3.12.1"
  }
 },
 "nbformat": 4,
 "nbformat_minor": 2
}
